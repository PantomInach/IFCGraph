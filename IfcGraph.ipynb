{
 "cells": [
  {
   "cell_type": "code",
   "execution_count": null,
   "metadata": {},
   "outputs": [],
   "source": [
    "!pip install ifcopenshell graphviz networkx"
   ]
  },
  {
   "cell_type": "markdown",
   "metadata": {},
   "source": [
    "# Ifc Graph Generation Tool\n",
    "By Aaron Neugebauer.\n",
    "\n",
    "Generate a graph representing the correlations of objects in a IFC file."
   ]
  },
  {
   "cell_type": "code",
   "execution_count": null,
   "metadata": {},
   "outputs": [],
   "source": [
    "import ifcopenshell as ifc\n",
    "import graphviz as viz\n",
    "import networkx as nx"
   ]
  },
  {
   "cell_type": "markdown",
   "metadata": {},
   "source": [
    "Basic configurations."
   ]
  },
  {
   "cell_type": "code",
   "execution_count": null,
   "metadata": {},
   "outputs": [],
   "source": [
    "ifc_file = \"TestGERMAN_OBD.ifc\"\n",
    "node_color: str = \"#2E0DA6\"\n",
    "edge_color: str = \"#8373BF\"\n",
    "file_base_name: str = \"ifc_graph\""
   ]
  },
  {
   "cell_type": "markdown",
   "metadata": {},
   "source": [
    "Default graph drawing function using [graphviz](https://graphviz.org/)."
   ]
  },
  {
   "cell_type": "code",
   "execution_count": null,
   "metadata": {},
   "outputs": [],
   "source": [
    "def graph_from_edges(edges, nodes=None, name_addition=None, save_dot: bool = True, save_svg: bool = True):\n",
    "    \"\"\"\n",
    "    Creates a drawing of a graph defined by the edges.\n",
    "    If no node set is given, it will be created from the edges.\n",
    "    \"\"\"\n",
    "    if nodes is None:\n",
    "        nodes = set()\n",
    "        for u,v in edges:\n",
    "            nodes.add(u)\n",
    "            nodes.add(v)\n",
    "\n",
    "    g = viz.Graph(engine=\"sfdp\", format=\"svg\", node_attr={\"shape\": \"point\", \"color\": node_color}, edge_attr={\"color\": edge_color})\n",
    "    g.graph_attr[\"size\"] = \"auto\"\n",
    "    g.graph_attr[\"overlap\"] = \"false\"\n",
    "    g.graph_attr[\"outputorder\"] = \"nodesfirst\"\n",
    "    for v in nodes:\n",
    "        g.node(str(v), label=None)\n",
    "    for u,v in edges:\n",
    "        g.edge(str(u), str(v))\n",
    "\n",
    "    name_add: str = name_addition if name_addition is not None else \"\"\n",
    "    if save_dot:\n",
    "        g.save(file_base_name + name_add + \".dot\")\n",
    "    if save_svg:\n",
    "        g.render(outfile=file_base_name + name_add + \".svg\")\n",
    "\n",
    "def digraph_from_edges(edges, edge_labels: dict=None, nodes=None, name_addition=None, save_dot: bool = True, save_svg: bool = True):\n",
    "    \"\"\"\n",
    "    Creates a drawing of a directed graph defined by the given edges.\n",
    "    If no node set is given, it will be created from the edges.\n",
    "    \"\"\"\n",
    "    if nodes is None:\n",
    "        nodes = set()\n",
    "        for u,v in edges:\n",
    "            nodes.add(u)\n",
    "            nodes.add(v)\n",
    "\n",
    "    g = viz.Digraph(engine=\"sfdp\", format=\"svg\", node_attr={\"color\": node_color}, edge_attr={\"color\": edge_color})\n",
    "    g.graph_attr[\"size\"] = \"auto\"\n",
    "    g.graph_attr[\"overlap\"] = \"false\"\n",
    "    g.graph_attr[\"outputorder\"] = \"nodesfirst\"\n",
    "    for v in nodes:\n",
    "        g.node(str(v))\n",
    "    for u,v in edges:\n",
    "        label = None if edge_labels is None else edge_labels.get((u,v), None)\n",
    "        g.edge(str(u), str(v), label=label)\n",
    "\n",
    "    name_add: str = name_addition if name_addition is not None else \"\"\n",
    "    if save_dot:\n",
    "        g.save(file_base_name + name_add + \".dot\")\n",
    "    if save_svg:\n",
    "        g.render(outfile=file_base_name + name_add + \".svg\")"
   ]
  },
  {
   "cell_type": "markdown",
   "metadata": {},
   "source": [
    "## Building the Graph\n",
    "We use a simple DFS algorithm to discover all the edges and nodes reachable from the root with the id '1' of the graph."
   ]
  },
  {
   "cell_type": "code",
   "execution_count": null,
   "metadata": {},
   "outputs": [],
   "source": [
    "def traverse(model, element, prev_nodes: set[int], prev_edges: set[(int, int)], directed: bool = False):\n",
    "    id: int = element.id()\n",
    "    if id in prev_nodes:\n",
    "        return\n",
    "    prev_nodes.add(id)\n",
    "    \n",
    "    for elem in set(model.traverse(element, max_levels=1)).union(model.get_inverse(element)):\n",
    "        elem_id = elem.id()\n",
    "        if elem_id in prev_nodes:\n",
    "            continue\n",
    "        \n",
    "        if directed:\n",
    "            prev_edges.add((id, elem_id))\n",
    "            prev_edges.add((elem_id, id))\n",
    "        else:\n",
    "            if (id, elem_id) not in prev_edges and (elem_id, id) not in prev_edges:\n",
    "                prev_edges.add((id, elem_id))\n",
    "        traverse(model, elem, prev_nodes, prev_edges)"
   ]
  },
  {
   "cell_type": "code",
   "execution_count": null,
   "metadata": {},
   "outputs": [],
   "source": [
    "nodes: set[int] = set()\n",
    "edges: set[(int, int)] = set()\n",
    "model = ifc.open(ifc_file)\n",
    "traverse(model, model.by_id(1), nodes, edges)"
   ]
  },
  {
   "cell_type": "markdown",
   "metadata": {},
   "source": [
    "## Visualization of the Graph"
   ]
  },
  {
   "cell_type": "code",
   "execution_count": null,
   "metadata": {},
   "outputs": [],
   "source": [
    "graph_from_edges(edges, nodes=nodes)"
   ]
  },
  {
   "cell_type": "markdown",
   "metadata": {},
   "source": [
    "## Finding a Path between two IDs\n",
    "We build the graph in networkX and use the build in path finding tool.\n",
    "\n",
    "First we need to build the directed graph."
   ]
  },
  {
   "cell_type": "code",
   "execution_count": null,
   "metadata": {},
   "outputs": [],
   "source": [
    "di_nodes: set[int] = set()\n",
    "di_edges: set[(int, int)] = set()\n",
    "edge_labels: dict[(int, int), str] = None\n",
    "model = ifc.open(ifc_file)\n",
    "traverse(model, model.by_id(1), di_nodes, di_edges, directed=True)"
   ]
  },
  {
   "cell_type": "code",
   "execution_count": null,
   "metadata": {},
   "outputs": [],
   "source": [
    "graph = nx.DiGraph()\n",
    "for u,v in di_edges:\n",
    "    graph.add_edge(u,v)"
   ]
  },
  {
   "cell_type": "markdown",
   "metadata": {},
   "source": [
    "Define the sources and destinations of the desired paths pairwise."
   ]
  },
  {
   "cell_type": "code",
   "execution_count": null,
   "metadata": {},
   "outputs": [],
   "source": [
    "sources = [703, 703]\n",
    "targets = [25858, 23461]"
   ]
  },
  {
   "cell_type": "markdown",
   "metadata": {},
   "source": [
    "Calculate the shortest path between the sources and targets pairwise."
   ]
  },
  {
   "cell_type": "code",
   "execution_count": null,
   "metadata": {},
   "outputs": [],
   "source": [
    "paths = [nx.shortest_path(graph, s, t) for s,t in zip(sources, targets)]\n",
    "for path in paths:\n",
    "    print(path)"
   ]
  },
  {
   "cell_type": "markdown",
   "metadata": {},
   "source": [
    "\n",
    "Determin if the edegs traversed by the path are either from 'traverse' or 'get_inverse' form the IFC model. This defines their edge labels."
   ]
  },
  {
   "cell_type": "code",
   "execution_count": null,
   "metadata": {},
   "outputs": [],
   "source": [
    "edge_labels: dict[(int, int), str] = {}\n",
    "for u, v in edges_paths:\n",
    "    if v in [e.id() for e in model.traverse(model.by_id(u))]:\n",
    "        edge_labels[(u, v)] = \"traverse\"\n",
    "    else:\n",
    "        edge_labels[(u, v)] = \"get_inverse\"\n",
    "\n",
    "print(edge_labels)"
   ]
  },
  {
   "cell_type": "markdown",
   "metadata": {},
   "source": [
    "Render the each path by itself."
   ]
  },
  {
   "cell_type": "code",
   "execution_count": null,
   "metadata": {},
   "outputs": [],
   "source": [
    "edge_sets: list[set[int]] = [set((path[i], path[i + 1]) for i in range(len(path) - 1)) for path in paths]\n",
    "for i, es in enumerate(edge_sets):\n",
    "    addition: str = \"_\" + str(sources[i]) + \"-\" + str(targets[i])\n",
    "    digraph_from_edges(es, name_addition=addition, edge_labels=edge_labels)"
   ]
  },
  {
   "cell_type": "markdown",
   "metadata": {},
   "source": [
    "Render all paths together."
   ]
  },
  {
   "cell_type": "code",
   "execution_count": null,
   "metadata": {},
   "outputs": [],
   "source": [
    "edges_paths: set[(int, int)] = set()\n",
    "for path in paths:\n",
    "    for i in range(len(path) - 1):\n",
    "        edges_paths.add((path[i], path[i + 1]))\n",
    "\n",
    "digraph_from_edges(edges_paths, name_addition=\"_joined_paths\",  edge_labels=edge_labels)"
   ]
  },
  {
   "cell_type": "markdown",
   "metadata": {},
   "source": []
  }
 ],
 "metadata": {
  "kernelspec": {
   "display_name": "Python 3 (ipykernel)",
   "language": "python",
   "name": "python3"
  },
  "language_info": {
   "codemirror_mode": {
    "name": "ipython",
    "version": 3
   },
   "file_extension": ".py",
   "mimetype": "text/x-python",
   "name": "python",
   "nbconvert_exporter": "python",
   "pygments_lexer": "ipython3",
   "version": "3.12.4"
  }
 },
 "nbformat": 4,
 "nbformat_minor": 4
}
